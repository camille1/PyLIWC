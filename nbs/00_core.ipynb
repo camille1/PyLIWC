{
 "cells": [
  {
   "cell_type": "markdown",
   "metadata": {},
   "source": [
    "# core\n",
    "\n",
    "> Fill in a module description here"
   ]
  },
  {
   "cell_type": "code",
   "execution_count": null,
   "metadata": {},
   "outputs": [],
   "source": [
    "#| default_exp core"
   ]
  },
  {
   "cell_type": "code",
   "execution_count": null,
   "metadata": {},
   "outputs": [],
   "source": [
    "#| hide\n",
    "from nbdev.showdoc import *"
   ]
  },
  {
   "cell_type": "code",
   "execution_count": null,
   "metadata": {},
   "outputs": [],
   "source": [
    "#| export\n",
    "\n",
    "import pandas as pd\n",
    "import subprocess\n",
    "import platform\n",
    "import shutil\n",
    "import os\n",
    "\n",
    "def liwc(texts: pd.Series, dict_: str= \"LIWC22\", return_input: bool= True) -> pd.DataFrame:\n",
    "    \"\"\"\n",
    "    Calculate LIWC (Linguistic Inquiry and Word Count) scores for a pandas Series of text.\n",
    "\n",
    "    Parameters:\n",
    "    text (pd.Series): A pandas Series containing the text to be analyzed.\n",
    "    dict_ (str): The name of the LIWC dictionary to use, or the path to a custom dictionary file.\n",
    "                 Allowed values are \"LIWC2001\", \"LIWC2007\", \"LIWC2015\", \"DE-LIWC2015\", \"LIWC22\",\n",
    "                 \"CHNSIMPLLIWC2015\", \"CHNTRADLIWC2015\", \"JLIWC2015\", \"ESLIWC2007\", and \"MRLIWC2015\".\n",
    "\n",
    "    Returns:\n",
    "    pd.DataFrame: A pandas DataFrame containing the LIWC scores for each text in the input Series.\n",
    "    \"\"\"\n",
    "    liwc_dir = 'LIWC_tmp'\n",
    "    input_name = 'liwc_input.csv'\n",
    "    output_name = 'liwc_output.csv'\n",
    "\n",
    "    # Create the temporary directory if it doesn't exist\n",
    "    if not os.path.exists(liwc_dir):\n",
    "        os.mkdir(liwc_dir)\n",
    "\n",
    "    # Write the input text to a CSV file\n",
    "    texts.reset_index().to_csv(f\"{liwc_dir}/{input_name}\", index=False)\n",
    "\n",
    "    is_wsl = 'microsoft' in platform.release().lower()\n",
    "\n",
    "    # check os \n",
    "    cmd_to_execute = [\"LIWC-22-cli.exe\"] if is_wsl else [\"LIWC-22-cli\"]\n",
    "\n",
    "    # Define the command to execute the LIWC-22-cli tool\n",
    "    cmd_to_execute += [\n",
    "                      \"--mode\", \"wc\",\n",
    "                      \"--input\", f\"{liwc_dir}/{input_name}\",\n",
    "                      \"--row-id-indices\", \"1\",\n",
    "                      \"--column-indices\", \"2\",\n",
    "                      \"--d\", dict_,\n",
    "                      \"--output\", f\"{liwc_dir}/{output_name}\",\n",
    "                      #\"--t\", \"8\" # threads, default n-1\n",
    "                      ]\n",
    "\n",
    "    # Execute the command\n",
    "    subprocess.call(cmd_to_execute)\n",
    "\n",
    "    # Read the output CSV file into a pandas DataFrame\n",
    "    r = pd.read_csv(f\"{liwc_dir}/{output_name}\")\n",
    "    if return_input:\n",
    "        r['text'] = texts.values\n",
    "    # Delete the temporary directory\n",
    "    shutil.rmtree(liwc_dir)\n",
    "\n",
    "    return r\n",
    "     \n",
    "# masculine_feminine_dict \n",
    "\n",
    "# liwc(d, dict_)\n",
    "     "
   ]
  },
  {
   "cell_type": "code",
   "execution_count": null,
   "metadata": {},
   "outputs": [],
   "source": [
    "#| hide\n",
    "import nbdev; nbdev.nbdev_export()"
   ]
  },
  {
   "cell_type": "code",
   "execution_count": null,
   "metadata": {},
   "outputs": [],
   "source": []
  }
 ],
 "metadata": {
  "kernelspec": {
   "display_name": "python3",
   "language": "python",
   "name": "python3"
  }
 },
 "nbformat": 4,
 "nbformat_minor": 4
}
