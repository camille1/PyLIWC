{
 "cells": [
  {
   "cell_type": "code",
   "execution_count": null,
   "metadata": {},
   "outputs": [],
   "source": [
    "%load_ext autoreload\n",
    "%autoreload 2"
   ]
  },
  {
   "cell_type": "markdown",
   "metadata": {},
   "source": [
    "# pyliwc (⚠beta)\n",
    "\n",
    "> LIWC analysis in Python"
   ]
  },
  {
   "cell_type": "markdown",
   "metadata": {},
   "source": [
    "This file will become your README and also the index of your documentation."
   ]
  },
  {
   "cell_type": "markdown",
   "metadata": {},
   "source": [
    "## Install"
   ]
  },
  {
   "cell_type": "markdown",
   "metadata": {},
   "source": [
    "```sh\n",
    "pip install pyliwc\n",
    "```"
   ]
  },
  {
   "cell_type": "markdown",
   "metadata": {},
   "source": [
    "## How to use"
   ]
  },
  {
   "cell_type": "markdown",
   "metadata": {},
   "source": [
    "Fill me in please! Don't forget code examples:"
   ]
  },
  {
   "cell_type": "code",
   "execution_count": null,
   "metadata": {},
   "outputs": [],
   "source": [
    "#| hide\n",
    "from pyliwc.core import *\n",
    "# home page for the docs\n",
    "import pandas as pd"
   ]
  },
  {
   "cell_type": "code",
   "execution_count": null,
   "metadata": {},
   "outputs": [],
   "source": [
    "speeches = {\n",
    "    \"Martin Luther King Jr.\": \"Five score years ago, a great American, in whose symbolic shadow we stand today, signed the Emancipation Proclamation. This momentous decree came as a great beacon light of hope to millions of Negro slaves who had been seared in the flames of withering injustice.\",\n",
    "    \"Abraham Lincoln\": \"Four score and seven years ago our fathers brought forth on this continent, a new nation, conceived in Liberty, and dedicated to the proposition that all men are created equal. Now we are engaged in a great civil war, testing whether that nation, or any nation so conceived and so dedicated, can long endure.\",\n",
    "    \"Winston Churchill\": \"I have nothing to offer but blood, toil, tears and sweat. We have before us an ordeal of the most grievous kind.\",\n",
    "    \"John F. Kennedy\": \"Vice President Johnson, Mr. Speaker, Mr. Chief Justice, President Eisenhower, Vice President Nixon, President Truman, Reverend Clergy, fellow citizens, we observe today not a victory of party but a celebration of freedom - symbolizing an end as well as a beginning - signifying renewal as well as change. For I have sworn before you and Almighty God the same solemn oath our forebears prescribed nearly a century and three quarters ago.\",\n",
    "    \"Nelson Mandela\": \"I greet you all in the name of peace, democracy and freedom for all. I stand here before you not as a prophet but as a humble servant of you, the people.\",\n",
    "    \"Charles de Gaulle\": \"Why a Free France? Because nothing is possible without it, nothing about France, nothing against France, nothing without France. The flame of French resistance must not and shall not die.\",\n",
    "    \"Mahatma Gandhi\": \"I want to speak to you as friends who have given me your ears, even though I am a stranger to you. I do not want your applause; I do not want your approval.\",\n",
    "    \"Eleanor Roosevelt\": \"This is no ordinary time, no time for weighing anything except what we can best do for the country as a whole. This is the time when we must know clearly what we are for, as well as what we are against, and what we are willing to die for, as well as what we are willing to live for.\",\n",
    "    \"Franklin D. Roosevelt\": \"Yesterday, December 7, 1941—a date which will live in infamy—the United States of America was suddenly and deliberately attacked by naval and air forces of the Empire of Japan. The United States was at peace with that nation and, at the solicitation of Japan, was still in conversation with its government and its emperor looking toward the maintenance of peace in the Pacific.\",\n",
    "    \"Malala Yousafzai\": \"Today it is an honor for me to be speaking again after a long time. Being here with such honorable people is a great moment in my life and it is an honor for me that today I am wearing a shawl of Benazir Bhutto shaheed.\",\n",
    "    \"Barack Obama\": \"My fellow citizens: I stand here today humbled by the task before us, grateful for the trust you have bestowed, mindful of the sacrifices borne by our ancestors. I thank President Bush for his service to our nation, as well as the generosity and cooperation he has shown throughout this transition.\",\n",
    "}\n",
    "\n",
    "df = pd.DataFrame(speeches.items(), columns=[\"Author\", \"Sentences\"])"
   ]
  },
  {
   "cell_type": "code",
   "execution_count": null,
   "metadata": {},
   "outputs": [
    {
     "data": {
      "text/html": [
       "<div>\n",
       "<style scoped>\n",
       "    .dataframe tbody tr th:only-of-type {\n",
       "        vertical-align: middle;\n",
       "    }\n",
       "\n",
       "    .dataframe tbody tr th {\n",
       "        vertical-align: top;\n",
       "    }\n",
       "\n",
       "    .dataframe thead th {\n",
       "        text-align: right;\n",
       "    }\n",
       "</style>\n",
       "<table border=\"1\" class=\"dataframe\">\n",
       "  <thead>\n",
       "    <tr style=\"text-align: right;\">\n",
       "      <th></th>\n",
       "      <th>Author</th>\n",
       "      <th>Sentences</th>\n",
       "    </tr>\n",
       "  </thead>\n",
       "  <tbody>\n",
       "    <tr>\n",
       "      <th>0</th>\n",
       "      <td>Martin Luther King Jr.</td>\n",
       "      <td>Five score years ago, a great American, in who...</td>\n",
       "    </tr>\n",
       "    <tr>\n",
       "      <th>1</th>\n",
       "      <td>Abraham Lincoln</td>\n",
       "      <td>Four score and seven years ago our fathers bro...</td>\n",
       "    </tr>\n",
       "    <tr>\n",
       "      <th>2</th>\n",
       "      <td>Winston Churchill</td>\n",
       "      <td>I have nothing to offer but blood, toil, tears...</td>\n",
       "    </tr>\n",
       "    <tr>\n",
       "      <th>3</th>\n",
       "      <td>John F. Kennedy</td>\n",
       "      <td>Vice President Johnson, Mr. Speaker, Mr. Chief...</td>\n",
       "    </tr>\n",
       "    <tr>\n",
       "      <th>4</th>\n",
       "      <td>Nelson Mandela</td>\n",
       "      <td>I greet you all in the name of peace, democrac...</td>\n",
       "    </tr>\n",
       "    <tr>\n",
       "      <th>5</th>\n",
       "      <td>Charles de Gaulle</td>\n",
       "      <td>Why a Free France? Because nothing is possible...</td>\n",
       "    </tr>\n",
       "    <tr>\n",
       "      <th>6</th>\n",
       "      <td>Mahatma Gandhi</td>\n",
       "      <td>I want to speak to you as friends who have giv...</td>\n",
       "    </tr>\n",
       "    <tr>\n",
       "      <th>7</th>\n",
       "      <td>Eleanor Roosevelt</td>\n",
       "      <td>This is no ordinary time, no time for weighing...</td>\n",
       "    </tr>\n",
       "    <tr>\n",
       "      <th>8</th>\n",
       "      <td>Franklin D. Roosevelt</td>\n",
       "      <td>Yesterday, December 7, 1941—a date which will ...</td>\n",
       "    </tr>\n",
       "    <tr>\n",
       "      <th>9</th>\n",
       "      <td>Malala Yousafzai</td>\n",
       "      <td>Today it is an honor for me to be speaking aga...</td>\n",
       "    </tr>\n",
       "    <tr>\n",
       "      <th>10</th>\n",
       "      <td>Barack Obama</td>\n",
       "      <td>My fellow citizens: I stand here today humbled...</td>\n",
       "    </tr>\n",
       "  </tbody>\n",
       "</table>\n",
       "</div>"
      ],
      "text/plain": [
       "                    Author                                          Sentences\n",
       "0   Martin Luther King Jr.  Five score years ago, a great American, in who...\n",
       "1          Abraham Lincoln  Four score and seven years ago our fathers bro...\n",
       "2        Winston Churchill  I have nothing to offer but blood, toil, tears...\n",
       "3          John F. Kennedy  Vice President Johnson, Mr. Speaker, Mr. Chief...\n",
       "4           Nelson Mandela  I greet you all in the name of peace, democrac...\n",
       "5        Charles de Gaulle  Why a Free France? Because nothing is possible...\n",
       "6           Mahatma Gandhi  I want to speak to you as friends who have giv...\n",
       "7        Eleanor Roosevelt  This is no ordinary time, no time for weighing...\n",
       "8    Franklin D. Roosevelt  Yesterday, December 7, 1941—a date which will ...\n",
       "9         Malala Yousafzai  Today it is an honor for me to be speaking aga...\n",
       "10            Barack Obama  My fellow citizens: I stand here today humbled..."
      ]
     },
     "execution_count": null,
     "metadata": {},
     "output_type": "execute_result"
    }
   ],
   "source": [
    "df"
   ]
  },
  {
   "cell_type": "code",
   "execution_count": null,
   "metadata": {},
   "outputs": [
    {
     "name": "stderr",
     "output_type": "stream",
     "text": [
      "Picked up JAVA_TOOL_OPTIONS: -Dfile.encoding=UTF-8\n"
     ]
    },
    {
     "name": "stdout",
     "output_type": "stream",
     "text": [
      "Processing:\n",
      " - [file] C:\\Users\\clacan\\OneDrive\\Etude\\AP\\_Notebooks\\_Git\\PyLIWC\\nbs\\LIWC_tmp\\liwc_input.csv\n",
      "\n",
      "[========================================] 100,00%; Number of Rows Analyzed: 13; Total Words Analyzed: 507\n",
      "\n",
      "Done. Please examine results in C:\\Users\\clacan\\OneDrive\\Etude\\AP\\_Notebooks\\_Git\\PyLIWC\\nbs\\LIWC_tmp\\liwc_output.csv\n"
     ]
    }
   ],
   "source": [
    "results = liwc(df.Sentences)"
   ]
  },
  {
   "cell_type": "code",
   "execution_count": null,
   "metadata": {},
   "outputs": [],
   "source": []
  },
  {
   "cell_type": "code",
   "execution_count": null,
   "metadata": {},
   "outputs": [],
   "source": []
  },
  {
   "cell_type": "code",
   "execution_count": null,
   "metadata": {},
   "outputs": [],
   "source": []
  }
 ],
 "metadata": {
  "kernelspec": {
   "display_name": "python3",
   "language": "python",
   "name": "python3"
  }
 },
 "nbformat": 4,
 "nbformat_minor": 4
}
